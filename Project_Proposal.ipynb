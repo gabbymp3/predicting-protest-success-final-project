{
 "cells": [
  {
   "cell_type": "raw",
   "id": "7860d51c",
   "metadata": {},
   "source": [
    "---\n",
    "title: \"Project Proposal\"\n",
    "format: \n",
    "  html:\n",
    "    toc: true\n",
    "    toc-title: Contents\n",
    "    code-fold: show\n",
    "    embed-resources: true\n",
    "jupyter: python3\n",
    "---"
   ]
  },
  {
   "cell_type": "markdown",
   "id": "16fccc9b",
   "metadata": {},
   "source": [
    "### 1) Name\n",
    "\n",
    "Gabriella Messenger"
   ]
  },
  {
   "cell_type": "markdown",
   "id": "16c1a490",
   "metadata": {},
   "source": [
    "### 2) Project Topic/Title\n",
    "\n",
    "Analysis of Global Protests from 1990-2020"
   ]
  },
  {
   "cell_type": "markdown",
   "id": "9403cdfb",
   "metadata": {},
   "source": [
    "### 3) Inspiration\n",
    "\n",
    "Explain the reason for your choice of data. Why is it interesting to you? Why do you think it is worth exploring for this project? Include any motivations or background that you believe is relevant. **(0.5 points)**\n",
    "\n",
    "This dataset contains information of protests against the state worldwide from 1990-2020. It combines data from three sources: the Mass Mobilization (MM) Dataset, Varieties of Democracy (V-Dem) Dataset, and the Human Development Index (HDI). The MM dataset contains data of year, country and region, protester demands, state responses, and whether violence occured at a particular protest. V-Dem is a comprehensive and widely-used dataset that measures various indices of democracy and governance, providing scores that measure the electoral, liberal, participatory, deliberative, and egalitarian scores of democracy for a country and year specific to a protest. HDI is a composite measure that ranks countries based on their level of human development. Together, these data can provide valuable insight to the nature of citizen movements against the state, and the how the demands of both interact in protests. Within the past 5 years, we have seen a global shift towards right-wing control, exemplified by the Trump administration in the U.S. and the rise of Germany's far-right AfD party, to name a few. In the U.S. in particular, censorship, repeals of progressive policies, and social unrest are at unprecendented levels in recent history. Thus, understanding the efficacy and nature of citizen protests is more relevant than ever."
   ]
  },
  {
   "cell_type": "markdown",
   "id": "0e62d158-87b8-4ee4-bbe4-afe9a5304329",
   "metadata": {},
   "source": [
    "### 4)  Data \n",
    "\n",
    "- Identify and describe your data source(s). Share any related links and/or citations.\n",
    "- **Using some code**, demonstrate that you have been able to read the data and (**using some code again**) give a brief overview of the data:\n",
    "    - How many observations?\n",
    "    - How many variables? How many of them are continuous and how many of them are categorical?\n",
    "    - Are there any missing values? Will cleaning/imputing be necessary?\n",
    "    - Is there any substantial correlation between the variables? This can be all variables in the data or only your variables of interest.\n",
    "\n",
    "**(2 points)**"
   ]
  },
  {
   "cell_type": "markdown",
   "id": "79e2eea3-412f-496f-aa84-ccd1533202c6",
   "metadata": {},
   "source": [
    "Data source: https://www.kaggle.com/code/devraai/protests-analysis-1990-to-march-2020"
   ]
  },
  {
   "cell_type": "code",
   "execution_count": 8,
   "id": "dd26a3da-dfbf-4bcd-97ce-e4a85de05c0e",
   "metadata": {},
   "outputs": [
    {
     "data": {
      "text/plain": [
       "stateresponse1\n",
       "ignore             6841\n",
       "crowd dispersal    3313\n",
       "arrests             874\n",
       "accomodation        830\n",
       "shootings           366\n",
       "killings            219\n",
       "beatings            186\n",
       "Name: count, dtype: int64"
      ]
     },
     "execution_count": 8,
     "metadata": {},
     "output_type": "execute_result"
    }
   ],
   "source": [
    "#### Initial exploration\n",
    "\n",
    "\n",
    "\n",
    "import pandas as pd\n",
    "import numpy as np\n",
    "\n",
    "data = pd.read_csv('data.csv')\n",
    "data.head()\n",
    "\n",
    "data.stateresponse1.value_counts()"
   ]
  },
  {
   "cell_type": "code",
   "execution_count": 7,
   "id": "a16b728e-b21e-48f3-9619-4542b9630951",
   "metadata": {},
   "outputs": [
    {
     "name": "stdout",
     "output_type": "stream",
     "text": [
      "Data has shape: 12652 observations and 25 columns.\n",
      "Index(['id', 'Country', 'Year', 'region', 'protest', 'protesterviolence',\n",
      "       'protesterdemand1', 'protesterdemand2', 'protesterdemand3',\n",
      "       'protesterdemand4', 'stateresponse1', 'stateresponse2',\n",
      "       'stateresponse3', 'stateresponse4', 'stateresponse5', 'stateresponse6',\n",
      "       'stateresponse7', 'Electoral_Score', 'Liberal_Score',\n",
      "       'Participatory_Score', 'Deliberative_Score', 'Egalitarian_Score',\n",
      "       'HDI_Score', 'violenceStatus', 'predicted_prob'],\n",
      "      dtype='object')\n",
      "Year range: 1990 2019\n",
      "Electoral_Score: 0.014 0.922\n",
      "Liberal_Score: 0.006 0.896\n",
      "Participatory_Score: 0.009 0.807\n",
      "Deliberative_Score: 0.006 0.886\n",
      "Egalitarian_Score: 0.034 0.885\n",
      "HDI_Score: 0.197 0.955\n"
     ]
    }
   ],
   "source": [
    "print(f'Data has shape: {data.shape[0]} observations and {data.shape[1]} columns.')\n",
    "\n",
    "print(data.columns)\n",
    "\n",
    "print('Year range:', data.Year.min(), data.Year.max() )\n",
    "print('Electoral_Score:', data.Electoral_Score.min(), data.Electoral_Score.max() )\n",
    "print('Liberal_Score:', data.Liberal_Score.min(), data.Liberal_Score.max() )\n",
    "print('Participatory_Score:', data.Participatory_Score.min(), data.Participatory_Score.max() )\n",
    "print('Deliberative_Score:', data.Deliberative_Score.min(), data.Deliberative_Score.max() )\n",
    "print('Egalitarian_Score:', data.Egalitarian_Score.min(), data.Egalitarian_Score.max() )\n",
    "print('HDI_Score:',data.HDI_Score.min(), data.HDI_Score.max() )"
   ]
  },
  {
   "cell_type": "markdown",
   "id": "27599792-5d0e-468e-a468-0379b7160a67",
   "metadata": {},
   "source": [
    "Categorical variables: Country, region, protesterdemand1 - protesterdemand4, stateresponse1 - stateresponse7\n",
    "\n",
    "Numerical variables: Year, protesterviolence, violenceStatus, Electoral_Score, Liberal_Score, Participatory_Score, Deliberative_Score, Egalitarian_Score, and HDI_Score\n",
    "\n",
    "- protesterviolence and violenceStatus are discrete, 1 indicating violence\n",
    "- Year ranges from 1990-2019\n",
    "- democracy indices and HDI scores are continuous, ranging from 0 to 1"
   ]
  },
  {
   "cell_type": "code",
   "execution_count": 9,
   "id": "327e188e-e962-44e0-9702-1e00db05feb1",
   "metadata": {},
   "outputs": [
    {
     "name": "stdout",
     "output_type": "stream",
     "text": [
      "id                         0\n",
      "Country                    0\n",
      "Year                       0\n",
      "region                     0\n",
      "protest                    0\n",
      "protesterviolence          0\n",
      "protesterdemand1           1\n",
      "protesterdemand2       10091\n",
      "protesterdemand3       12317\n",
      "protesterdemand4       12011\n",
      "stateresponse1            23\n",
      "stateresponse2         10280\n",
      "stateresponse3         11896\n",
      "stateresponse4         12453\n",
      "stateresponse5         11995\n",
      "stateresponse6         12639\n",
      "stateresponse7         11893\n",
      "Electoral_Score            0\n",
      "Liberal_Score              0\n",
      "Participatory_Score        0\n",
      "Deliberative_Score         0\n",
      "Egalitarian_Score          0\n",
      "HDI_Score                216\n",
      "violenceStatus             0\n",
      "predicted_prob           216\n",
      "dtype: int64\n"
     ]
    }
   ],
   "source": [
    "print(data.isnull().sum())"
   ]
  },
  {
   "cell_type": "markdown",
   "id": "a3213e92-4836-4a3f-9b46-bb0b1b7741e5",
   "metadata": {},
   "source": [
    "There are missing values in this dataset. Further exploration will be necessary to determine which rows to discard, that is, which observations are missing values for ALL protester demand columns or ALL state response columns. Most observations have at least 1 protester demand and 1 state response, and these will be used for my analysis. There are also certain columns I will remove: protest (all observations are protests, all have value 1), and predicted_prob, since this is the output of a logit classification model and not collected data."
   ]
  },
  {
   "cell_type": "code",
   "execution_count": 11,
   "id": "ce843483-a56a-468c-aa4e-751f92eced49",
   "metadata": {},
   "outputs": [
    {
     "data": {
      "text/html": [
       "<div>\n",
       "<style scoped>\n",
       "    .dataframe tbody tr th:only-of-type {\n",
       "        vertical-align: middle;\n",
       "    }\n",
       "\n",
       "    .dataframe tbody tr th {\n",
       "        vertical-align: top;\n",
       "    }\n",
       "\n",
       "    .dataframe thead th {\n",
       "        text-align: right;\n",
       "    }\n",
       "</style>\n",
       "<table border=\"1\" class=\"dataframe\">\n",
       "  <thead>\n",
       "    <tr style=\"text-align: right;\">\n",
       "      <th></th>\n",
       "      <th>Liberal_Score</th>\n",
       "      <th>Electoral_Score</th>\n",
       "      <th>Participatory_Score</th>\n",
       "      <th>Deliberative_Score</th>\n",
       "      <th>Egalitarian_Score</th>\n",
       "      <th>HDI_Score</th>\n",
       "      <th>Year</th>\n",
       "    </tr>\n",
       "  </thead>\n",
       "  <tbody>\n",
       "    <tr>\n",
       "      <th>Liberal_Score</th>\n",
       "      <td>1.000000</td>\n",
       "      <td>0.977991</td>\n",
       "      <td>0.977570</td>\n",
       "      <td>0.979241</td>\n",
       "      <td>0.967448</td>\n",
       "      <td>0.652654</td>\n",
       "      <td>-0.028444</td>\n",
       "    </tr>\n",
       "    <tr>\n",
       "      <th>Electoral_Score</th>\n",
       "      <td>0.977991</td>\n",
       "      <td>1.000000</td>\n",
       "      <td>0.980828</td>\n",
       "      <td>0.963404</td>\n",
       "      <td>0.942761</td>\n",
       "      <td>0.600305</td>\n",
       "      <td>-0.036454</td>\n",
       "    </tr>\n",
       "    <tr>\n",
       "      <th>Participatory_Score</th>\n",
       "      <td>0.977570</td>\n",
       "      <td>0.980828</td>\n",
       "      <td>1.000000</td>\n",
       "      <td>0.963755</td>\n",
       "      <td>0.948148</td>\n",
       "      <td>0.634805</td>\n",
       "      <td>-0.019305</td>\n",
       "    </tr>\n",
       "    <tr>\n",
       "      <th>Deliberative_Score</th>\n",
       "      <td>0.979241</td>\n",
       "      <td>0.963404</td>\n",
       "      <td>0.963755</td>\n",
       "      <td>1.000000</td>\n",
       "      <td>0.950908</td>\n",
       "      <td>0.620824</td>\n",
       "      <td>-0.029175</td>\n",
       "    </tr>\n",
       "    <tr>\n",
       "      <th>Egalitarian_Score</th>\n",
       "      <td>0.967448</td>\n",
       "      <td>0.942761</td>\n",
       "      <td>0.948148</td>\n",
       "      <td>0.950908</td>\n",
       "      <td>1.000000</td>\n",
       "      <td>0.711389</td>\n",
       "      <td>-0.030508</td>\n",
       "    </tr>\n",
       "    <tr>\n",
       "      <th>HDI_Score</th>\n",
       "      <td>0.652654</td>\n",
       "      <td>0.600305</td>\n",
       "      <td>0.634805</td>\n",
       "      <td>0.620824</td>\n",
       "      <td>0.711389</td>\n",
       "      <td>1.000000</td>\n",
       "      <td>0.211394</td>\n",
       "    </tr>\n",
       "    <tr>\n",
       "      <th>Year</th>\n",
       "      <td>-0.028444</td>\n",
       "      <td>-0.036454</td>\n",
       "      <td>-0.019305</td>\n",
       "      <td>-0.029175</td>\n",
       "      <td>-0.030508</td>\n",
       "      <td>0.211394</td>\n",
       "      <td>1.000000</td>\n",
       "    </tr>\n",
       "  </tbody>\n",
       "</table>\n",
       "</div>"
      ],
      "text/plain": [
       "                     Liberal_Score  Electoral_Score  Participatory_Score  \\\n",
       "Liberal_Score             1.000000         0.977991             0.977570   \n",
       "Electoral_Score           0.977991         1.000000             0.980828   \n",
       "Participatory_Score       0.977570         0.980828             1.000000   \n",
       "Deliberative_Score        0.979241         0.963404             0.963755   \n",
       "Egalitarian_Score         0.967448         0.942761             0.948148   \n",
       "HDI_Score                 0.652654         0.600305             0.634805   \n",
       "Year                     -0.028444        -0.036454            -0.019305   \n",
       "\n",
       "                     Deliberative_Score  Egalitarian_Score  HDI_Score  \\\n",
       "Liberal_Score                  0.979241           0.967448   0.652654   \n",
       "Electoral_Score                0.963404           0.942761   0.600305   \n",
       "Participatory_Score            0.963755           0.948148   0.634805   \n",
       "Deliberative_Score             1.000000           0.950908   0.620824   \n",
       "Egalitarian_Score              0.950908           1.000000   0.711389   \n",
       "HDI_Score                      0.620824           0.711389   1.000000   \n",
       "Year                          -0.029175          -0.030508   0.211394   \n",
       "\n",
       "                         Year  \n",
       "Liberal_Score       -0.028444  \n",
       "Electoral_Score     -0.036454  \n",
       "Participatory_Score -0.019305  \n",
       "Deliberative_Score  -0.029175  \n",
       "Egalitarian_Score   -0.030508  \n",
       "HDI_Score            0.211394  \n",
       "Year                 1.000000  "
      ]
     },
     "execution_count": 11,
     "metadata": {},
     "output_type": "execute_result"
    }
   ],
   "source": [
    "num_data = data[['Liberal_Score', 'Electoral_Score', 'Participatory_Score', 'Deliberative_Score', 'Egalitarian_Score', 'HDI_Score', 'Year']]\n",
    "num_data.corr()"
   ]
  },
  {
   "cell_type": "markdown",
   "id": "c70120bb-202f-4e5e-8f97-fe418f74a1c4",
   "metadata": {},
   "source": [
    "All democracy indices, (liberal, electoral, participatory, deliberative, egalitarian scores) are highly correlated with one another. This is expected since the ideals of a democratic government are, in theory, inclusive of liberalism, electoralism, participation, deliberation, and egalitarianism.\n",
    "\n",
    "HDI_Score is moderately correlated with all democracy indices, which is intuitive since we usually associate democratic nations with a higher standard of life than their non-democratic counterparts.\n",
    "\n",
    "Year shows almost zero (although slightly negative) correlation with all democracy indices, and slightly positive correlation with HDI_Score, *potentially* indicating that while human development has increased since 1990, levels of democracy have not. This will be further explored in my analysis."
   ]
  },
  {
   "cell_type": "markdown",
   "id": "51a7babb",
   "metadata": {},
   "source": [
    "### 5) Questions\n",
    "\n",
    "Answer the following questions to describe your plan for the project content.\n",
    "\n",
    "- Is this a regression or a classification problem?\n",
    "- Which variable will be the response and which variables will be your predictors?\n",
    "- What is your plan to develop a model? How many models are you planning to train? **Note that using a single model with all predictors at once is not acceptable. You need to start with a simple model. Keep adding predictors and observe the changes.**\n",
    "- How will you explore the non-linearities in the data?\n",
    "- Are there any variables that you are planning to exclude from your models? If yes, explain why.\n",
    "- How will you evaluate the prediction performance of your models? Justify your choice.\n",
    "- How will you perform inference on your models?\n",
    "\n",
    "**(2 points)**\n",
    "\n"
   ]
  },
  {
   "cell_type": "markdown",
   "id": "a29514f5-8e37-4ca4-96ad-cd9d6c19ce9e",
   "metadata": {},
   "source": [
    "#### Overview\n",
    "This project will be a classification problem. My goal is to predict whether a protest is successful (class 1) or unsuccessful (class 0). Success will be determined by the state response; if state response is 'accomodation' for any protest, that protest will be classified as successful. My goal is to uncover nuances in the relationship between the nature of a protest -- determined by the protester demands and whether or not protester violence occurred -- and the response of the state. I am also interested in determining what kinds of protests incite state violence, specifically for non-violent protests; this would be interesting to examine in the context of a certain country's democracy and HDI scores. This is also a classification problem, where state violence will be class 1, and the absence of state violence will be class 0. \n",
    "\n",
    "#### Model Development\n",
    "First, I will define a new variable, 'success', determined by the presence of 'accomodation' in any state response variables for a given protest. I will also define a new variable, 'stateviolence', which will have a value of 1 if violenceStatus = 1 and protesterviolence = 0, since this signals violence on behalf of the government.\n",
    "\n",
    "**Part 1**\n",
    "\n",
    "Can the success of a protest be determined by the nature of the protest itself? Furthermore, what kinds of protests are more likely to result in success depending on the global region in which they occur? Are protests of any kind more likely to succeed in countries with higher democracy scores?\n",
    "\n",
    "For my first model, the response will be success. I will start with a simple model: logistic regression with predictors 'protesterviolence' and 'protesterdemands' 1 through 4. This will provide a rough outline of the relationship between protest nature and success. Then, I will add 'Region', and likely increase complexity by including an interaction between region and protest nature, determined by the initial two predictors. This will provide insight to the regional trends in citizen protest. To further examine *where* certain kinds of protests are more successful, I will add all democracy score indices and HDI scores. This will provide insight to the relationship between democracy and protest success, i.e., whether democratic nations are actually more receptive to citizen petitions and demands. Lastly, I will include year as a predictor to see how receptivity to protests has changed since 1990.\n",
    "\n",
    "\n",
    "**Part 2**\n",
    "\n",
    "Can we predict the use of state violence in a protest based on a given government democracy scores? In countries with higher democracy scores, are protests more likely to be non-violent? How has this relationship changed since 1990?\n",
    "\n",
    "The second part of my exploration will pertain to the relationship between democracy and HDI scores and state violence. Here, 'stateviolence' will be the response and the predictor variables will be all democracy indices and HDI score to begin with. Then, I will increase complexity by including 'Year' and 'Region', potentially as interaction terms, to examine the relationship of state violence with geographic and temporal changes. Finally, I will include protester demands as predictors to examine the potential relationship between protest nature and state violence.\n",
    "\n",
    "#### Other Considerations\n",
    "\n",
    "The following variables will be excluded from my analysis: id, predicted_prob, and potentially Country. Id is redundant, and predicted_prob is the output of an unknown logistic model, so neither are relevant for my exploration. To examine geographic trends in protest success and state violence, I will experiment with using 'Region' and 'Country' and determine which is better suited for this analysis. If regional trends miss significant variation between countries in that region, I will use country instead. If trends within a region are generally homogenous, I will use region for simplicity.\n",
    "\n",
    "I will evaluate the prediction performance of my model with a variety of metrics discussed thus far. This includes, recall, precision, accuracy, and AUC as determined by the recall-precision curve. To perform inference, I will examine coefficients and statistical significance of all predictors mentioned above. When appropriate, I will conduct an LLR test to determine the significance of the overall model. Furthermore, I will implement Lasso and Ridge regularizations to fine-tune the coefficients and improve the model's prediction performance.\n"
   ]
  },
  {
   "cell_type": "markdown",
   "id": "cb8a845f",
   "metadata": {},
   "source": [
    "### 6) Stakeholders"
   ]
  },
  {
   "cell_type": "markdown",
   "id": "d39c782c",
   "metadata": {},
   "source": [
    "Who would be the stakeholders of this project, i.e. who would be interested in hearing your results and how would those results benefit them? **(0.5 points)**"
   ]
  },
  {
   "cell_type": "markdown",
   "id": "e8919a55-acc9-425a-b12e-10b1e907e42e",
   "metadata": {},
   "source": [
    "The main stakeholders of this project are those in the field of comparative politics and political science as a whole. A quantitative analysis of civic behaviors and state responses such as this one is relevant to the social sciences more broadly, such as sociology. However, in the context of a global right-wing shift, political literacy and informed skepticism of self-described democracies is more important than ever as more citizens are taking to protest to express their beliefs and outrage. Thus, I believe stakeholders include constituent populations as a whole, although academically this project is directly involved in the study of political science."
   ]
  }
 ],
 "metadata": {
  "kernelspec": {
   "display_name": "Python 3 (ipykernel)",
   "language": "python",
   "name": "python3"
  },
  "language_info": {
   "codemirror_mode": {
    "name": "ipython",
    "version": 3
   },
   "file_extension": ".py",
   "mimetype": "text/x-python",
   "name": "python",
   "nbconvert_exporter": "python",
   "pygments_lexer": "ipython3",
   "version": "3.12.4"
  }
 },
 "nbformat": 4,
 "nbformat_minor": 5
}
